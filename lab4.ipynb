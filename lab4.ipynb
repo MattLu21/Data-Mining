{
 "cells": [
  {
   "cell_type": "markdown",
   "id": "bffee134",
   "metadata": {},
   "source": [
    "# import lib"
   ]
  },
  {
   "cell_type": "code",
   "execution_count": 102,
   "id": "4540f173",
   "metadata": {},
   "outputs": [],
   "source": [
    "import pandas\n",
    "import psycopg2 \n",
    "import configparser"
   ]
  },
  {
   "cell_type": "markdown",
   "id": "2f25a682",
   "metadata": {},
   "source": [
    "# Connect to database"
   ]
  },
  {
   "cell_type": "code",
   "execution_count": 103,
   "id": "7c615928",
   "metadata": {},
   "outputs": [],
   "source": [
    "config = configparser.ConfigParser()\n",
    "config.read('config.ini')\n",
    "\n",
    "host=config['myaws']['host']\n",
    "db=config['myaws']['db']\n",
    "user=config['myaws']['user']\n",
    "pwd = config['myaws']['pwd']\n",
    "\n",
    "conn = psycopg2.connect(  host=host,\n",
    "                       user=user,\n",
    "                       password = pwd,\n",
    "                       dbname=db)"
   ]
  },
  {
   "cell_type": "code",
   "execution_count": 104,
   "id": "8a591aca",
   "metadata": {},
   "outputs": [],
   "source": [
    "cur=conn.cursor()"
   ]
  },
  {
   "cell_type": "markdown",
   "id": "e84238fb",
   "metadata": {},
   "source": [
    "# Q1"
   ]
  },
  {
   "cell_type": "code",
   "execution_count": 23,
   "id": "4d93ec99",
   "metadata": {},
   "outputs": [],
   "source": [
    "q1_sql = \"\"\" select *\n",
    "            from gp7.students\"\"\""
   ]
  },
  {
   "cell_type": "code",
   "execution_count": 24,
   "id": "fa8be25c",
   "metadata": {},
   "outputs": [],
   "source": [
    "cur.execute(q1_sql)"
   ]
  },
  {
   "cell_type": "code",
   "execution_count": 25,
   "id": "2ef2905a",
   "metadata": {},
   "outputs": [
    {
     "data": {
      "text/html": [
       "<div>\n",
       "<style scoped>\n",
       "    .dataframe tbody tr th:only-of-type {\n",
       "        vertical-align: middle;\n",
       "    }\n",
       "\n",
       "    .dataframe tbody tr th {\n",
       "        vertical-align: top;\n",
       "    }\n",
       "\n",
       "    .dataframe thead th {\n",
       "        text-align: right;\n",
       "    }\n",
       "</style>\n",
       "<table border=\"1\" class=\"dataframe\">\n",
       "  <thead>\n",
       "    <tr style=\"text-align: right;\">\n",
       "      <th></th>\n",
       "      <th>s_email</th>\n",
       "      <th>s_name</th>\n",
       "      <th>s_major</th>\n",
       "    </tr>\n",
       "  </thead>\n",
       "  <tbody>\n",
       "    <tr>\n",
       "      <th>0</th>\n",
       "      <td>matthew21@gmail.com</td>\n",
       "      <td>Matthew Luciano</td>\n",
       "      <td>IA</td>\n",
       "    </tr>\n",
       "    <tr>\n",
       "      <th>1</th>\n",
       "      <td>jkl@gmail.com</td>\n",
       "      <td>jack Ross</td>\n",
       "      <td>IA</td>\n",
       "    </tr>\n",
       "    <tr>\n",
       "      <th>2</th>\n",
       "      <td>fgh@gmail.com</td>\n",
       "      <td>Fred Cross</td>\n",
       "      <td>IA</td>\n",
       "    </tr>\n",
       "    <tr>\n",
       "      <th>3</th>\n",
       "      <td>dhj@gmail.com\\n</td>\n",
       "      <td>Daniel Jones</td>\n",
       "      <td>Engineering\\n</td>\n",
       "    </tr>\n",
       "  </tbody>\n",
       "</table>\n",
       "</div>"
      ],
      "text/plain": [
       "               s_email           s_name        s_major\n",
       "0  matthew21@gmail.com  Matthew Luciano             IA\n",
       "1        jkl@gmail.com        jack Ross             IA\n",
       "2        fgh@gmail.com       Fred Cross             IA\n",
       "3      dhj@gmail.com\\n     Daniel Jones  Engineering\\n"
      ]
     },
     "execution_count": 25,
     "metadata": {},
     "output_type": "execute_result"
    }
   ],
   "source": [
    "df=pandas.read_sql_query(q1_sql,conn)\n",
    "df[:]"
   ]
  },
  {
   "cell_type": "markdown",
   "id": "a86bbdcd",
   "metadata": {},
   "source": [
    "#Q2"
   ]
  },
  {
   "cell_type": "code",
   "execution_count": 27,
   "id": "3c2894fa",
   "metadata": {},
   "outputs": [],
   "source": [
    "q2_sql = \"\"\"select gp7.professor.p_name, gp7.courses.c_name\n",
    "                from gp7.professor\n",
    "                inner join gp7.courses\n",
    "                on gp7.professor.p_email = gp7.courses.p_email\"\"\""
   ]
  },
  {
   "cell_type": "code",
   "execution_count": 30,
   "id": "d11f5328",
   "metadata": {},
   "outputs": [
    {
     "data": {
      "text/html": [
       "<div>\n",
       "<style scoped>\n",
       "    .dataframe tbody tr th:only-of-type {\n",
       "        vertical-align: middle;\n",
       "    }\n",
       "\n",
       "    .dataframe tbody tr th {\n",
       "        vertical-align: top;\n",
       "    }\n",
       "\n",
       "    .dataframe thead th {\n",
       "        text-align: right;\n",
       "    }\n",
       "</style>\n",
       "<table border=\"1\" class=\"dataframe\">\n",
       "  <thead>\n",
       "    <tr style=\"text-align: right;\">\n",
       "      <th></th>\n",
       "      <th>p_name</th>\n",
       "      <th>c_name</th>\n",
       "    </tr>\n",
       "  </thead>\n",
       "  <tbody>\n",
       "    <tr>\n",
       "      <th>0</th>\n",
       "      <td>Kathleen A Moore</td>\n",
       "      <td>Ia908</td>\n",
       "    </tr>\n",
       "    <tr>\n",
       "      <th>1</th>\n",
       "      <td>Timothy R Walton</td>\n",
       "      <td>Ia210</td>\n",
       "    </tr>\n",
       "    <tr>\n",
       "      <th>2</th>\n",
       "      <td>John A Robinson</td>\n",
       "      <td>Ia340</td>\n",
       "    </tr>\n",
       "    <tr>\n",
       "      <th>3</th>\n",
       "      <td>New_prof_name</td>\n",
       "      <td>New_C_room</td>\n",
       "    </tr>\n",
       "    <tr>\n",
       "      <th>4</th>\n",
       "      <td>New_prof_name</td>\n",
       "      <td>Ia234</td>\n",
       "    </tr>\n",
       "  </tbody>\n",
       "</table>\n",
       "</div>"
      ],
      "text/plain": [
       "             p_name      c_name\n",
       "0  Kathleen A Moore       Ia908\n",
       "1  Timothy R Walton       Ia210\n",
       "2   John A Robinson       Ia340\n",
       "3     New_prof_name  New_C_room\n",
       "4     New_prof_name       Ia234"
      ]
     },
     "execution_count": 30,
     "metadata": {},
     "output_type": "execute_result"
    }
   ],
   "source": [
    "df=pandas.read_sql_query(q2_sql,conn)\n",
    "df[:]"
   ]
  },
  {
   "cell_type": "markdown",
   "id": "d309bafe",
   "metadata": {},
   "source": [
    "#q3"
   ]
  },
  {
   "cell_type": "code",
   "execution_count": 44,
   "id": "335036f5",
   "metadata": {},
   "outputs": [],
   "source": [
    "q3_sql= \"\"\"select c_number, count (*) as enrolled\n",
    "        from gp7.enroll_list\n",
    "        group by c_number\n",
    "        order by enrolled desc\n",
    "\"\"\""
   ]
  },
  {
   "cell_type": "code",
   "execution_count": 45,
   "id": "b78835e8",
   "metadata": {},
   "outputs": [
    {
     "data": {
      "text/plain": [
       "<AxesSubplot:xlabel='c_number'>"
      ]
     },
     "execution_count": 45,
     "metadata": {},
     "output_type": "execute_result"
    },
    {
     "data": {
      "image/png": "[encoded data removed]",
      "text/plain": [
       "<Figure size 432x288 with 1 Axes>"
      ]
     },
     "metadata": {
      "needs_background": "light"
     },
     "output_type": "display_data"
    }
   ],
   "source": [
    "df=pandas.read_sql_query(q3_sql,conn)\n",
    "\n",
    "df.plot.bar(x='c_number',y='enrolled')"
   ]
  },
  {
   "cell_type": "markdown",
   "id": "c82ed830",
   "metadata": {},
   "source": [
    "#q4"
   ]
  },
  {
   "cell_type": "code",
   "execution_count": 46,
   "id": "1bf16bb7",
   "metadata": {},
   "outputs": [],
   "source": [
    "q4_sql = \"\"\"select gp7.professor.p_name, count(gp7.courses.c_number) as c_total\n",
    "            from  gp7.professor\n",
    "            inner join gp7.courses\n",
    "            on gp7.professor.p_email = gp7.courses.p_email\n",
    "            group by p_name,c_number\n",
    "            order by c_total desc\"\"\""
   ]
  },
  {
   "cell_type": "code",
   "execution_count": 48,
   "id": "8c8d1187",
   "metadata": {},
   "outputs": [
    {
     "data": {
      "text/plain": [
       "<AxesSubplot:xlabel='p_name'>"
      ]
     },
     "execution_count": 48,
     "metadata": {},
     "output_type": "execute_result"
    },
    {
     "data": {
      "image/png": "[encoded data removed]",
      "text/plain": [
       "<Figure size 432x288 with 1 Axes>"
      ]
     },
     "metadata": {
      "needs_background": "light"
     },
     "output_type": "display_data"
    }
   ],
   "source": [
    "df=pandas.read_sql_query(q4_sql,conn)\n",
    "\n",
    "df.plot.bar(x='p_name',y='c_total')"
   ]
  },
  {
   "cell_type": "markdown",
   "id": "ef968938",
   "metadata": {},
   "source": [
    "# Q5\n"
   ]
  },
  {
   "cell_type": "code",
   "execution_count": 160,
   "id": "eb54666f",
   "metadata": {},
   "outputs": [
    {
     "name": "stdout",
     "output_type": "stream",
     "text": [
      "insert into gp7.professor(p_email,p_name,p_office)\n",
      "        values ('new_l4_email', 'new_l4_name','new_l4_office')\n"
     ]
    }
   ],
   "source": [
    "q5_sql = \"\"\"insert into gp7.professor(p_email,p_name,p_office)\n",
    "        values ('{}', '{}','{}')\"\"\".format('new_l4_email','new_l4_name','new_l4_office')\n",
    "print(q5_sql)"
   ]
  },
  {
   "cell_type": "code",
   "execution_count": 161,
   "id": "7a86c663",
   "metadata": {},
   "outputs": [],
   "source": [
    "cur.execute(q5_sql)"
   ]
  },
  {
   "cell_type": "code",
   "execution_count": 162,
   "id": "603e8de8",
   "metadata": {},
   "outputs": [],
   "source": [
    "conn.commit()"
   ]
  },
  {
   "cell_type": "code",
   "execution_count": 163,
   "id": "f1358bf1",
   "metadata": {},
   "outputs": [
    {
     "data": {
      "text/html": [
       "<div>\n",
       "<style scoped>\n",
       "    .dataframe tbody tr th:only-of-type {\n",
       "        vertical-align: middle;\n",
       "    }\n",
       "\n",
       "    .dataframe tbody tr th {\n",
       "        vertical-align: top;\n",
       "    }\n",
       "\n",
       "    .dataframe thead th {\n",
       "        text-align: right;\n",
       "    }\n",
       "</style>\n",
       "<table border=\"1\" class=\"dataframe\">\n",
       "  <thead>\n",
       "    <tr style=\"text-align: right;\">\n",
       "      <th></th>\n",
       "      <th>p_email</th>\n",
       "      <th>p_name</th>\n",
       "      <th>p_office</th>\n",
       "    </tr>\n",
       "  </thead>\n",
       "  <tbody>\n",
       "    <tr>\n",
       "      <th>0</th>\n",
       "      <td>moore8ka@jmu.edu</td>\n",
       "      <td>Kathleen A Moore</td>\n",
       "      <td>ISAT116</td>\n",
       "    </tr>\n",
       "    <tr>\n",
       "      <th>1</th>\n",
       "      <td>robinsja@jmu.edu</td>\n",
       "      <td>John A Robinson</td>\n",
       "      <td>ISAT127</td>\n",
       "    </tr>\n",
       "    <tr>\n",
       "      <th>2</th>\n",
       "      <td>waltontr@jmu.edu</td>\n",
       "      <td>Timothy R Walton</td>\n",
       "      <td>ISAT326</td>\n",
       "    </tr>\n",
       "    <tr>\n",
       "      <th>3</th>\n",
       "      <td>New_Prof_email</td>\n",
       "      <td>New_prof_name</td>\n",
       "      <td>New_prof_office</td>\n",
       "    </tr>\n",
       "    <tr>\n",
       "      <th>4</th>\n",
       "      <td>new_l4_email</td>\n",
       "      <td>new_l4_name</td>\n",
       "      <td>new_l4_office</td>\n",
       "    </tr>\n",
       "  </tbody>\n",
       "</table>\n",
       "</div>"
      ],
      "text/plain": [
       "            p_email            p_name         p_office\n",
       "0  moore8ka@jmu.edu  Kathleen A Moore          ISAT116\n",
       "1  robinsja@jmu.edu   John A Robinson          ISAT127\n",
       "2  waltontr@jmu.edu  Timothy R Walton          ISAT326\n",
       "3    New_Prof_email     New_prof_name  New_prof_office\n",
       "4      new_l4_email       new_l4_name    new_l4_office"
      ]
     },
     "execution_count": 163,
     "metadata": {},
     "output_type": "execute_result"
    }
   ],
   "source": [
    "\n",
    "df=pandas.read_sql_query('select * from gp7.professor',conn)\n",
    "df[:]"
   ]
  },
  {
   "cell_type": "code",
   "execution_count": 164,
   "id": "9b8f76c3",
   "metadata": {
    "scrolled": true
   },
   "outputs": [
    {
     "name": "stdout",
     "output_type": "stream",
     "text": [
      "insert into gp7.courses(c_number,c_room,c_name,p_email)\n",
      "                values('101-11','2010','Ia345','new_l4_email')\n"
     ]
    }
   ],
   "source": [
    "q52_sql = \"\"\"insert into gp7.courses(c_number,c_room,c_name,p_email)\n",
    "                values('{}','{}','{}','{}')\"\"\".format('101-11','2010','Ia345','new_l4_email')\n",
    "print(q52_sql)"
   ]
  },
  {
   "cell_type": "code",
   "execution_count": 165,
   "id": "19a2ad19",
   "metadata": {},
   "outputs": [],
   "source": [
    "cur.execute(q52_sql)"
   ]
  },
  {
   "cell_type": "code",
   "execution_count": 166,
   "id": "897c6101",
   "metadata": {},
   "outputs": [],
   "source": [
    "conn.commit()"
   ]
  },
  {
   "cell_type": "code",
   "execution_count": 167,
   "id": "37dd828f",
   "metadata": {},
   "outputs": [
    {
     "data": {
      "text/html": [
       "<div>\n",
       "<style scoped>\n",
       "    .dataframe tbody tr th:only-of-type {\n",
       "        vertical-align: middle;\n",
       "    }\n",
       "\n",
       "    .dataframe tbody tr th {\n",
       "        vertical-align: top;\n",
       "    }\n",
       "\n",
       "    .dataframe thead th {\n",
       "        text-align: right;\n",
       "    }\n",
       "</style>\n",
       "<table border=\"1\" class=\"dataframe\">\n",
       "  <thead>\n",
       "    <tr style=\"text-align: right;\">\n",
       "      <th></th>\n",
       "      <th>c_number</th>\n",
       "      <th>c_name</th>\n",
       "      <th>c_room</th>\n",
       "      <th>p_email</th>\n",
       "    </tr>\n",
       "  </thead>\n",
       "  <tbody>\n",
       "    <tr>\n",
       "      <th>0</th>\n",
       "      <td>101-43</td>\n",
       "      <td>Ia908</td>\n",
       "      <td>Isat367</td>\n",
       "      <td>moore8ka@jmu.edu</td>\n",
       "    </tr>\n",
       "    <tr>\n",
       "      <th>1</th>\n",
       "      <td>103-45</td>\n",
       "      <td>Ia210</td>\n",
       "      <td>Engeo2010</td>\n",
       "      <td>waltontr@jmu.edu</td>\n",
       "    </tr>\n",
       "    <tr>\n",
       "      <th>2</th>\n",
       "      <td>101-56\\n</td>\n",
       "      <td>Ia340</td>\n",
       "      <td>Isat315</td>\n",
       "      <td>robinsja@jmu.edu</td>\n",
       "    </tr>\n",
       "    <tr>\n",
       "      <th>3</th>\n",
       "      <td>New_C_num</td>\n",
       "      <td>New_C_room</td>\n",
       "      <td>New_C_name</td>\n",
       "      <td>New_Prof_email</td>\n",
       "    </tr>\n",
       "    <tr>\n",
       "      <th>4</th>\n",
       "      <td>101-25</td>\n",
       "      <td>Ia234</td>\n",
       "      <td>Engeo2001</td>\n",
       "      <td>New_Prof_email</td>\n",
       "    </tr>\n",
       "    <tr>\n",
       "      <th>5</th>\n",
       "      <td>101-11</td>\n",
       "      <td>Ia345</td>\n",
       "      <td>2010</td>\n",
       "      <td>new_l4_email</td>\n",
       "    </tr>\n",
       "  </tbody>\n",
       "</table>\n",
       "</div>"
      ],
      "text/plain": [
       "    c_number      c_name      c_room           p_email\n",
       "0     101-43       Ia908     Isat367  moore8ka@jmu.edu\n",
       "1     103-45       Ia210   Engeo2010  waltontr@jmu.edu\n",
       "2   101-56\\n       Ia340     Isat315  robinsja@jmu.edu\n",
       "3  New_C_num  New_C_room  New_C_name    New_Prof_email\n",
       "4     101-25       Ia234   Engeo2001    New_Prof_email\n",
       "5     101-11       Ia345        2010      new_l4_email"
      ]
     },
     "execution_count": 167,
     "metadata": {},
     "output_type": "execute_result"
    }
   ],
   "source": [
    "df=pandas.read_sql_query('select * from gp7.courses',conn)\n",
    "df[:]"
   ]
  },
  {
   "cell_type": "code",
   "execution_count": 168,
   "id": "803f2479",
   "metadata": {},
   "outputs": [],
   "source": [
    "q6_sql =\"\"\"update gp7.courses\n",
    "            set p_email = '{}'\n",
    "            where p_email= '{}'\n",
    "            \"\"\".format('new_l4_email','New_Prof_email')"
   ]
  },
  {
   "cell_type": "code",
   "execution_count": 169,
   "id": "089bdb3e",
   "metadata": {},
   "outputs": [],
   "source": [
    "cur.execute(q6_sql)"
   ]
  },
  {
   "cell_type": "code",
   "execution_count": 170,
   "id": "5ad1a6ca",
   "metadata": {},
   "outputs": [],
   "source": [
    "conn.commit()"
   ]
  },
  {
   "cell_type": "code",
   "execution_count": 171,
   "id": "772aa0a6",
   "metadata": {},
   "outputs": [
    {
     "data": {
      "text/html": [
       "<div>\n",
       "<style scoped>\n",
       "    .dataframe tbody tr th:only-of-type {\n",
       "        vertical-align: middle;\n",
       "    }\n",
       "\n",
       "    .dataframe tbody tr th {\n",
       "        vertical-align: top;\n",
       "    }\n",
       "\n",
       "    .dataframe thead th {\n",
       "        text-align: right;\n",
       "    }\n",
       "</style>\n",
       "<table border=\"1\" class=\"dataframe\">\n",
       "  <thead>\n",
       "    <tr style=\"text-align: right;\">\n",
       "      <th></th>\n",
       "      <th>c_number</th>\n",
       "      <th>c_name</th>\n",
       "      <th>c_room</th>\n",
       "      <th>p_email</th>\n",
       "    </tr>\n",
       "  </thead>\n",
       "  <tbody>\n",
       "    <tr>\n",
       "      <th>0</th>\n",
       "      <td>101-43</td>\n",
       "      <td>Ia908</td>\n",
       "      <td>Isat367</td>\n",
       "      <td>moore8ka@jmu.edu</td>\n",
       "    </tr>\n",
       "    <tr>\n",
       "      <th>1</th>\n",
       "      <td>103-45</td>\n",
       "      <td>Ia210</td>\n",
       "      <td>Engeo2010</td>\n",
       "      <td>waltontr@jmu.edu</td>\n",
       "    </tr>\n",
       "    <tr>\n",
       "      <th>2</th>\n",
       "      <td>101-56\\n</td>\n",
       "      <td>Ia340</td>\n",
       "      <td>Isat315</td>\n",
       "      <td>robinsja@jmu.edu</td>\n",
       "    </tr>\n",
       "    <tr>\n",
       "      <th>3</th>\n",
       "      <td>101-11</td>\n",
       "      <td>Ia345</td>\n",
       "      <td>2010</td>\n",
       "      <td>new_l4_email</td>\n",
       "    </tr>\n",
       "    <tr>\n",
       "      <th>4</th>\n",
       "      <td>New_C_num</td>\n",
       "      <td>New_C_room</td>\n",
       "      <td>New_C_name</td>\n",
       "      <td>new_l4_email</td>\n",
       "    </tr>\n",
       "    <tr>\n",
       "      <th>5</th>\n",
       "      <td>101-25</td>\n",
       "      <td>Ia234</td>\n",
       "      <td>Engeo2001</td>\n",
       "      <td>new_l4_email</td>\n",
       "    </tr>\n",
       "  </tbody>\n",
       "</table>\n",
       "</div>"
      ],
      "text/plain": [
       "    c_number      c_name      c_room           p_email\n",
       "0     101-43       Ia908     Isat367  moore8ka@jmu.edu\n",
       "1     103-45       Ia210   Engeo2010  waltontr@jmu.edu\n",
       "2   101-56\\n       Ia340     Isat315  robinsja@jmu.edu\n",
       "3     101-11       Ia345        2010      new_l4_email\n",
       "4  New_C_num  New_C_room  New_C_name      new_l4_email\n",
       "5     101-25       Ia234   Engeo2001      new_l4_email"
      ]
     },
     "execution_count": 171,
     "metadata": {},
     "output_type": "execute_result"
    }
   ],
   "source": [
    "df=pandas.read_sql_query('select * from gp7.courses',conn)\n",
    "df[:]"
   ]
  },
  {
   "cell_type": "code",
   "execution_count": 172,
   "id": "12271e1e",
   "metadata": {},
   "outputs": [],
   "source": [
    "q6_delete_sql=\"\"\"delete from gp7.professor\n",
    "                 where p_email='{}'\n",
    "                 \"\"\".format('New_Prof_email')"
   ]
  },
  {
   "cell_type": "code",
   "execution_count": 173,
   "id": "4cf3aadd",
   "metadata": {},
   "outputs": [],
   "source": [
    "cur.execute(q6_delete_sql)"
   ]
  },
  {
   "cell_type": "code",
   "execution_count": 174,
   "id": "096ae189",
   "metadata": {},
   "outputs": [],
   "source": [
    "conn.commit()"
   ]
  },
  {
   "cell_type": "code",
   "execution_count": 175,
   "id": "8d7651f4",
   "metadata": {},
   "outputs": [
    {
     "data": {
      "text/html": [
       "<div>\n",
       "<style scoped>\n",
       "    .dataframe tbody tr th:only-of-type {\n",
       "        vertical-align: middle;\n",
       "    }\n",
       "\n",
       "    .dataframe tbody tr th {\n",
       "        vertical-align: top;\n",
       "    }\n",
       "\n",
       "    .dataframe thead th {\n",
       "        text-align: right;\n",
       "    }\n",
       "</style>\n",
       "<table border=\"1\" class=\"dataframe\">\n",
       "  <thead>\n",
       "    <tr style=\"text-align: right;\">\n",
       "      <th></th>\n",
       "      <th>p_email</th>\n",
       "      <th>p_name</th>\n",
       "      <th>p_office</th>\n",
       "    </tr>\n",
       "  </thead>\n",
       "  <tbody>\n",
       "    <tr>\n",
       "      <th>0</th>\n",
       "      <td>moore8ka@jmu.edu</td>\n",
       "      <td>Kathleen A Moore</td>\n",
       "      <td>ISAT116</td>\n",
       "    </tr>\n",
       "    <tr>\n",
       "      <th>1</th>\n",
       "      <td>robinsja@jmu.edu</td>\n",
       "      <td>John A Robinson</td>\n",
       "      <td>ISAT127</td>\n",
       "    </tr>\n",
       "    <tr>\n",
       "      <th>2</th>\n",
       "      <td>waltontr@jmu.edu</td>\n",
       "      <td>Timothy R Walton</td>\n",
       "      <td>ISAT326</td>\n",
       "    </tr>\n",
       "    <tr>\n",
       "      <th>3</th>\n",
       "      <td>new_l4_email</td>\n",
       "      <td>new_l4_name</td>\n",
       "      <td>new_l4_office</td>\n",
       "    </tr>\n",
       "  </tbody>\n",
       "</table>\n",
       "</div>"
      ],
      "text/plain": [
       "            p_email            p_name       p_office\n",
       "0  moore8ka@jmu.edu  Kathleen A Moore        ISAT116\n",
       "1  robinsja@jmu.edu   John A Robinson        ISAT127\n",
       "2  waltontr@jmu.edu  Timothy R Walton        ISAT326\n",
       "3      new_l4_email       new_l4_name  new_l4_office"
      ]
     },
     "execution_count": 175,
     "metadata": {},
     "output_type": "execute_result"
    }
   ],
   "source": [
    "df=pandas.read_sql_query('select * from gp7.professor',conn)\n",
    "df[:]"
   ]
  },
  {
   "cell_type": "code",
   "execution_count": null,
   "id": "fd94cf4e",
   "metadata": {},
   "outputs": [],
   "source": [
    "cur.close()"
   ]
  },
  {
   "cell_type": "code",
   "execution_count": 176,
   "id": "357c3bab",
   "metadata": {},
   "outputs": [],
   "source": [
    "conn.close()"
   ]
  },
  {
   "cell_type": "code",
   "execution_count": null,
   "id": "45ff2c35",
   "metadata": {},
   "outputs": [],
   "source": []
  }
 ],
 "metadata": {
  "kernelspec": {
   "display_name": "conda_python3",
   "language": "python",
   "name": "conda_python3"
  },
  "language_info": {
   "codemirror_mode": {
    "name": "ipython",
    "version": 3
   },
   "file_extension": ".py",
   "mimetype": "text/x-python",
   "name": "python",
   "nbconvert_exporter": "python",
   "pygments_lexer": "ipython3",
   "version": "3.6.13"
  }
 },
 "nbformat": 4,
 "nbformat_minor": 5
}
